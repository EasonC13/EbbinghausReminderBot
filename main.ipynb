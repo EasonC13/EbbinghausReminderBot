{
 "cells": [
  {
   "cell_type": "code",
   "execution_count": 1,
   "metadata": {
    "ExecuteTime": {
     "end_time": "2020-05-16T12:58:15.816161Z",
     "start_time": "2020-05-16T12:58:15.548348Z"
    }
   },
   "outputs": [],
   "source": [
    "import pandas as pd\n",
    "import numpy as np\n",
    "import datetime\n",
    "import time\n",
    "import configparser\n",
    "import logging\n",
    "from os import listdir\n",
    "import os\n",
    "from os.path import isfile, join\n",
    "\n",
    "from flask import Flask, request\n",
    "import telegram\n",
    "from telegram import ReplyKeyboardMarkup, InlineKeyboardMarkup, InlineKeyboardButton\n",
    "from telegram.ext import Dispatcher, CommandHandler, MessageHandler, Filters, CallbackQueryHandler\n",
    "import requests\n",
    "from datetime import datetime\n",
    "import configparser\n",
    "pd.options.mode.chained_assignment = None  # default='warn'\n",
    "ISOTIMEFORMAT = '%Y%m%d_%H%M%S'\n",
    "\n",
    "path = os.path.abspath('.')\n",
    "\n",
    "config = configparser.RawConfigParser()\n",
    "config.read(\"./secret.ini\")\n",
    "Token = config[\"Secret\"][\"BotToken\"]\n",
    "bot = telegram.Bot(token=Token)"
   ]
  },
  {
   "cell_type": "code",
   "execution_count": null,
   "metadata": {
    "ExecuteTime": {
     "end_time": "2020-05-16T10:54:44.522716Z",
     "start_time": "2020-05-16T10:54:44.516563Z"
    }
   },
   "outputs": [],
   "source": [
    "\n"
   ]
  },
  {
   "cell_type": "code",
   "execution_count": null,
   "metadata": {},
   "outputs": [],
   "source": []
  },
  {
   "cell_type": "code",
   "execution_count": null,
   "metadata": {},
   "outputs": [],
   "source": []
  },
  {
   "cell_type": "code",
   "execution_count": 2,
   "metadata": {
    "ExecuteTime": {
     "end_time": "2020-05-16T12:58:20.903847Z",
     "start_time": "2020-05-16T12:58:20.899234Z"
    }
   },
   "outputs": [],
   "source": [
    "def getTimeNow():\n",
    "    from datetime import datetime\n",
    "    return datetime.now()"
   ]
  },
  {
   "cell_type": "code",
   "execution_count": 3,
   "metadata": {
    "ExecuteTime": {
     "end_time": "2020-05-16T12:58:21.252627Z",
     "start_time": "2020-05-16T12:58:21.241089Z"
    }
   },
   "outputs": [
    {
     "name": "stdout",
     "output_type": "stream",
     "text": [
      "Hello! Run first time.\n"
     ]
    }
   ],
   "source": [
    "if not os.path.isdir(path + '/' +\".DataForEbbing\"):\n",
    "    os.mkdir(path + '/' +\".DataForEbbing\")\n",
    "    print(\"Hello! Run first time.\")\n",
    "else:\n",
    "    print(\"Welcome back.\")\n",
    "path = path + '/' +\".DataForEbbing/\"\n",
    "Path = path"
   ]
  },
  {
   "cell_type": "code",
   "execution_count": null,
   "metadata": {},
   "outputs": [],
   "source": []
  },
  {
   "cell_type": "code",
   "execution_count": 4,
   "metadata": {
    "ExecuteTime": {
     "end_time": "2020-05-16T12:58:22.077841Z",
     "start_time": "2020-05-16T12:58:22.070591Z"
    }
   },
   "outputs": [],
   "source": [
    "config = configparser.RawConfigParser()\n",
    "config.read(\"./secret.ini\")\n",
    "Token = config[\"Secret\"][\"BotToken\"]\n",
    "bot = telegram.Bot(token=Token)"
   ]
  },
  {
   "cell_type": "code",
   "execution_count": 26,
   "metadata": {
    "ExecuteTime": {
     "end_time": "2020-05-16T14:05:38.438319Z",
     "start_time": "2020-05-16T14:05:38.432316Z"
    }
   },
   "outputs": [],
   "source": [
    "def make_init_quiz_interface(front_data=\"\"):\n",
    "    option_context = [\"延後下次提醒\", \"拉近下次提醒\", \"不再提醒\"]\n",
    "    return InlineKeyboardMarkup(\n",
    "        [\n",
    "            [\n",
    "                InlineKeyboardButton(\n",
    "                option_context[i - 1],\n",
    "                url= \"https://tsraise.com\" if option_context[i - 1] == \"查看學生的資料\" else None,\n",
    "                callback_data='/quizdata,' + front_data + (',' if front_data!=\"\" else '') + str(i)),\n",
    "            ] for i in range(3)\n",
    "        ],\n",
    "        \n",
    "    )"
   ]
  },
  {
   "cell_type": "code",
   "execution_count": 27,
   "metadata": {
    "ExecuteTime": {
     "end_time": "2020-05-16T14:05:40.230162Z",
     "start_time": "2020-05-16T14:05:39.765218Z"
    }
   },
   "outputs": [
    {
     "data": {
      "text/plain": [
       "<telegram.message.Message at 0x7f54d58ef8d0>"
      ]
     },
     "execution_count": 27,
     "metadata": {},
     "output_type": "execute_result"
    }
   ],
   "source": [
    "bot.send_message(chat_id = 555773901, text = \"AAA\", reply_markup = make_init_quiz_interface())"
   ]
  },
  {
   "cell_type": "code",
   "execution_count": null,
   "metadata": {},
   "outputs": [],
   "source": []
  },
  {
   "cell_type": "code",
   "execution_count": null,
   "metadata": {},
   "outputs": [],
   "source": []
  },
  {
   "cell_type": "code",
   "execution_count": 28,
   "metadata": {
    "ExecuteTime": {
     "end_time": "2020-05-16T14:05:42.881955Z",
     "start_time": "2020-05-16T14:05:42.876298Z"
    }
   },
   "outputs": [],
   "source": [
    "out = []"
   ]
  },
  {
   "cell_type": "code",
   "execution_count": 32,
   "metadata": {
    "ExecuteTime": {
     "end_time": "2020-05-16T14:09:13.478595Z",
     "start_time": "2020-05-16T14:09:13.470892Z"
    },
    "scrolled": true
   },
   "outputs": [
    {
     "name": "stdout",
     "output_type": "stream",
     "text": [
      "NEWLINE /home/fio/Python/E_Practice/ChatBot_practice/Ebbing/.DataForEbbing/2020/05/16/22/02\n"
     ]
    }
   ],
   "source": [
    "#Start worker for checking regular.\n",
    "\n",
    "import configparser\n",
    "\n",
    "import telegram\n",
    "\n",
    "config = configparser.RawConfigParser()\n",
    "config.read(\"./secret.ini\")\n",
    "Token = config[\"Secret\"][\"BotToken\"]\n",
    "bot = telegram.Bot(token=Token)\n",
    "\n",
    "def checkingEveryMin(Path, out):\n",
    "    import time\n",
    "    import os\n",
    "    from datetime import datetime\n",
    "    import threading\n",
    "    Time = time.time()\n",
    "    out.append(processFiles)\n",
    "    while(True):\n",
    "        if Time > time.time() and False:\n",
    "            time.sleep(1)\n",
    "            print(Time)\n",
    "            print(time.time(),\"t\")\n",
    "            continue\n",
    "        \n",
    "        Time+=60\n",
    "        \n",
    "        times = datetime.fromtimestamp(Time)\n",
    "        pathNow = Path + times.strftime(\"%Y/%m/%d/%H/%M\")\n",
    "        \n",
    "        pathNow = \"/home/fio/Python/E_Practice/ChatBot_practice/Ebbing/.DataForEbbing/2020/05/16/22/02\"\n",
    "        print(\"NEWLINE\", pathNow)\n",
    "        \n",
    "        \n",
    "        if os.path.isdir(pathNow) == False:\n",
    "            print(\"Not Dir\")\n",
    "            continue\n",
    "        \n",
    "        files = [f for f in os.listdir(pathNow) if os.path.isfile(os.path.join(pathNow, f))]\n",
    "        \n",
    "        for file in files:\n",
    "            t = threading.Thread(target = processFiles, args = (pathNow + \"/\" + file, Path))\n",
    "            t.start()\n",
    "            #readFiles\n",
    "        \n",
    "        break\n",
    "        \n",
    "def processFiles(filePath, Path):\n",
    "    config = configparser.RawConfigParser()\n",
    "    config.read(filePath)\n",
    "    \n",
    "    global bot\n",
    "    \n",
    "    result = bot.send_message(chat_id = config[\"Info\"][\"chatId\"],\n",
    "                     text = config[\"Info\"][\"RemindInfo\"].replace(\"<br>\",\"\\n\"),\n",
    "                     reply_markup = make_init_quiz_interface())\n",
    "    \n",
    "    \n",
    "    #set remind again for later on.\n",
    "    os.remove(filePath)\n",
    "    \n",
    "    \n",
    "import threading\n",
    "import time\n",
    "#t = threading.Thread(target = checkingEveryMin, args = (Path, out))\n",
    "#t.start()\n",
    "checkingEveryMin(Path, out)"
   ]
  },
  {
   "cell_type": "code",
   "execution_count": null,
   "metadata": {
    "ExecuteTime": {
     "end_time": "2020-05-16T12:59:43.640765Z",
     "start_time": "2020-05-16T12:59:38.600Z"
    }
   },
   "outputs": [],
   "source": [
    "out"
   ]
  },
  {
   "cell_type": "code",
   "execution_count": 235,
   "metadata": {
    "ExecuteTime": {
     "end_time": "2020-05-16T12:52:54.647425Z",
     "start_time": "2020-05-16T12:52:54.641791Z"
    }
   },
   "outputs": [
    {
     "name": "stdout",
     "output_type": "stream",
     "text": [
      "|"
     ]
    },
    {
     "data": {
      "text/plain": [
       "67"
      ]
     },
     "execution_count": 235,
     "metadata": {},
     "output_type": "execute_result"
    }
   ],
   "source": [
    "len(Path)"
   ]
  },
  {
   "cell_type": "code",
   "execution_count": 238,
   "metadata": {
    "ExecuteTime": {
     "end_time": "2020-05-16T12:52:57.616377Z",
     "start_time": "2020-05-16T12:52:57.610854Z"
    }
   },
   "outputs": [
    {
     "data": {
      "text/plain": [
       "[<function __main__.processFiles(filePath, Path)>, '|', '|', '|', '|']"
      ]
     },
     "execution_count": 238,
     "metadata": {},
     "output_type": "execute_result"
    }
   ],
   "source": [
    "out"
   ]
  },
  {
   "cell_type": "code",
   "execution_count": 211,
   "metadata": {
    "ExecuteTime": {
     "end_time": "2020-05-16T12:47:24.951450Z",
     "start_time": "2020-05-16T12:47:24.944544Z"
    }
   },
   "outputs": [],
   "source": [
    "from flask import Flask, request\n",
    "import telegram\n",
    "from telegram import ReplyKeyboardMarkup, InlineKeyboardMarkup, InlineKeyboardButton\n",
    "from telegram.ext import Dispatcher, CommandHandler, MessageHandler, Filters, CallbackQueryHandler\n",
    "import requests\n",
    "\n",
    "app = Flask(__name__)\n",
    "\n",
    "config = configparser.RawConfigParser()\n",
    "config.read(\"./secret.ini\")\n",
    "Token = config[\"Secret\"][\"BotToken\"]\n",
    "bot = telegram.Bot(token=Token)\n",
    "\n",
    "@app.route('/hook', methods=['POST'])\n",
    "def webhook_handler():\n",
    "    \"\"\"Set route /hook with POST method will trigger this method.\"\"\"\n",
    "    if request.method == \"POST\":\n",
    "        update = telegram.Update.de_json(request.get_json(force=True), bot)\n",
    "        dispatcher.process_update(update)\n",
    "    return 'ok'"
   ]
  },
  {
   "cell_type": "code",
   "execution_count": 212,
   "metadata": {
    "ExecuteTime": {
     "end_time": "2020-05-16T12:47:27.001231Z",
     "start_time": "2020-05-16T12:47:26.995652Z"
    }
   },
   "outputs": [],
   "source": [
    "\n",
    "out = []\n",
    "def start_handler(bot, update):\n",
    "    \"\"\"Send a message when the command /start is issued.\"\"\"\n",
    "    already_in_use = False\n",
    "    \n",
    "    update.message.reply_text(\"Hi\")\n",
    "\n",
    "def help_handler(bot, update):\n",
    "    \"\"\"Send a message when the command /help is issued.\"\"\"\n",
    "    #update.message.reply_text(welcome_message, reply_markup=KeyBoards.default)\n",
    "    \n",
    "    help_message = \"Help triggered!\"\n",
    "    \n",
    "    update.message.reply_text(help_message, reply_markup = ReplyKeyboardMarkup([[\"...好喔\"]]) )\n",
    "    \n",
    "def reply_handler(bot, update):\n",
    "    text = update.message.text\n",
    "    addUserData(update)\n",
    "    "
   ]
  },
  {
   "cell_type": "code",
   "execution_count": 213,
   "metadata": {
    "ExecuteTime": {
     "end_time": "2020-05-16T12:47:27.809839Z",
     "start_time": "2020-05-16T12:47:27.801583Z"
    }
   },
   "outputs": [],
   "source": [
    "def Mkdir(Path, path):\n",
    "    allPath = Path\n",
    "    if allPath[-1] ==\"/\":\n",
    "        allPath = allPath[:-1]\n",
    "    for p in path.split(\"/\"):\n",
    "        try:\n",
    "            os.mkdir(allPath +\"/\" + p)\n",
    "        except:\n",
    "            pass\n",
    "        allPath += \"/\"+p\n",
    "    return allPath + \"/\"\n",
    "\n",
    "def addUserData(update):\n",
    "    text = update.message.text\n",
    "    chatId = update.message.chat.id\n",
    "    from datetime import datetime\n",
    "    ISOTIMEFORMAT = '%Y/%m/%d'\n",
    "    userFirstTime = datetime.now().strftime(ISOTIMEFORMAT)\n",
    "    firstStart.format(userFirstTime = userFirstTime + \" 21:00\")\n",
    "    path = userFirstTime + \"/21/00/\" + str(chatId) + \"-\" + str(hash(text))[0:5]\n",
    "    if not os.path.isdir(Path + path):\n",
    "        Mkdir(Path, path)\n",
    "\n",
    "    data = \"\"\"[Info]\n",
    "chatId = {chatId}\n",
    "\n",
    "RemindInfo = {Info}\n",
    "Times = {Times}\n",
    "LastTimeRemind = {TimeStamp}\n",
    "    \"\"\"  \n",
    "    writeMsgs = data.format(chatId = chatId, Info = text.replace(\"\\n\", \"<br>\"), Times = 0, TimeStamp = time.time())\n",
    "    status = False\n",
    "    with open(Path + path + \"/\" + str(chatId) + \"-\" + str(hash(text))[:5],\"w\") as f:\n",
    "        for msg in writeMsgs.split(\"\\n\"):\n",
    "            f.write(msg)\n",
    "            f.write(\"\\n\")\n",
    "        status = True\n",
    "    if status:\n",
    "        update.message.reply_text(\"已經成功添加提醒於 %s\"%(userFirstTime+\" 21:00\"))\n",
    "    else:\n",
    "        update.message.reply_text(\"添加失敗QQ\")"
   ]
  },
  {
   "cell_type": "code",
   "execution_count": 214,
   "metadata": {
    "ExecuteTime": {
     "end_time": "2020-05-16T12:47:28.547653Z",
     "start_time": "2020-05-16T12:47:28.542044Z"
    }
   },
   "outputs": [
    {
     "name": "stderr",
     "output_type": "stream",
     "text": [
      "/home/fio/anaconda3/envs/chatbot/lib/python3.7/site-packages/IPython/core/interactiveshell.py:3331: TelegramDeprecationWarning: Old Handler API is deprecated - see https://git.io/fxJuV for details\n",
      "  exec(code_obj, self.user_global_ns, self.user_ns)\n"
     ]
    }
   ],
   "source": [
    "dispatcher = Dispatcher(bot, None)\n",
    "dispatcher.add_handler(MessageHandler(Filters.text, reply_handler))\n",
    "dispatcher.add_handler(CommandHandler('start', start_handler))\n",
    "dispatcher.add_handler(CommandHandler('help', help_handler))\n"
   ]
  },
  {
   "cell_type": "code",
   "execution_count": 215,
   "metadata": {
    "ExecuteTime": {
     "end_time": "2020-05-16T12:47:29.896147Z",
     "start_time": "2020-05-16T12:47:29.090766Z"
    }
   },
   "outputs": [
    {
     "name": "stdout",
     "output_type": "stream",
     "text": [
      "Setting Webhook... Webhook is already set\n"
     ]
    }
   ],
   "source": [
    "url = \"https://fio2.ntnu.best\"\n",
    "config = configparser.RawConfigParser()\n",
    "config.read(\"./secret.ini\")\n",
    "Token = config[\"Secret\"][\"BotToken\"]\n",
    "print(\"Setting Webhook... \", end = \"\")\n",
    "respond = requests.post(\"https://api.telegram.org/bot{Token}/setWebhook?url={URL}/hook\".format(Token = Token, URL = url))\n",
    "print(respond.json()[\"description\"])\n"
   ]
  },
  {
   "cell_type": "code",
   "execution_count": 216,
   "metadata": {
    "ExecuteTime": {
     "end_time": "2020-05-16T12:48:38.473969Z",
     "start_time": "2020-05-16T12:47:30.014014Z"
    }
   },
   "outputs": [
    {
     "name": "stdout",
     "output_type": "stream",
     "text": [
      " * Serving Flask app \"__main__\" (lazy loading)\n",
      " * Environment: production\n",
      "   WARNING: This is a development server. Do not use it in a production deployment.\n",
      "   Use a production WSGI server instead.\n",
      " * Debug mode: off\n"
     ]
    },
    {
     "name": "stderr",
     "output_type": "stream",
     "text": [
      " * Running on http://127.0.0.1:13522/ (Press CTRL+C to quit)\n",
      "127.0.0.1 - - [16/May/2020 20:47:39] \"\u001b[37mPOST /hook HTTP/1.0\u001b[0m\" 200 -\n"
     ]
    }
   ],
   "source": [
    "if __name__ == \"__main__\":\n",
    "    # Running server\n",
    "    app.run(port = 13522)"
   ]
  },
  {
   "cell_type": "code",
   "execution_count": 99,
   "metadata": {
    "ExecuteTime": {
     "end_time": "2020-05-16T11:38:09.902030Z",
     "start_time": "2020-05-16T11:38:09.897338Z"
    }
   },
   "outputs": [],
   "source": [
    "firstStart = \"\"\"Reminded add at at {userFirstTime}.\"\"\""
   ]
  },
  {
   "cell_type": "code",
   "execution_count": 127,
   "metadata": {
    "ExecuteTime": {
     "end_time": "2020-05-16T11:45:15.807744Z",
     "start_time": "2020-05-16T11:45:15.802199Z"
    }
   },
   "outputs": [],
   "source": []
  },
  {
   "cell_type": "code",
   "execution_count": 194,
   "metadata": {
    "ExecuteTime": {
     "end_time": "2020-05-16T12:08:31.689886Z",
     "start_time": "2020-05-16T12:08:31.683133Z"
    }
   },
   "outputs": [
    {
     "data": {
      "text/plain": [
       "'2020/05/16/21/00/123-21728'"
      ]
     },
     "execution_count": 194,
     "metadata": {},
     "output_type": "execute_result"
    }
   ],
   "source": [
    "#text = update.message.text\n",
    "userId = 123\n",
    "from datetime import datetime\n",
    "ISOTIMEFORMAT = '%Y/%m/%d'\n",
    "userFirstTime = datetime.now().strftime(ISOTIMEFORMAT)\n",
    "firstStart.format(userFirstTime = userFirstTime + \" 21:00\")\n",
    "path = userFirstTime + \"/21/00\"\n",
    "path + \"/\" + str(userId) + \"-\" + str(hash(text))[:5]"
   ]
  },
  {
   "cell_type": "code",
   "execution_count": 200,
   "metadata": {
    "ExecuteTime": {
     "end_time": "2020-05-16T12:24:08.210325Z",
     "start_time": "2020-05-16T12:24:08.203036Z"
    }
   },
   "outputs": [],
   "source": [
    "def Mkdir(Path, path):\n",
    "    allPath = Path\n",
    "    if allPath[-1] ==\"/\":\n",
    "        allPath = allPath[:-1]\n",
    "    for p in path.split(\"/\"):\n",
    "        try:\n",
    "            os.mkdir(allPath +\"/\" + p)\n",
    "        except:\n",
    "            pass\n",
    "        allPath += \"/\"+p\n",
    "    return allPath + \"/\"\n",
    "\n",
    "if not os.path.isdir(Path + path):\n",
    "    Mkdir(Path, path)\n",
    "\n",
    "data = \"\"\"[Info]\n",
    "UserId = {userID}\n",
    "\n",
    "RemindInfo = {Info}\n",
    "Times = {Times}\n",
    "LastTimeRemind = {TimeStamp}\n",
    "\"\"\"  \n",
    "writeMsgs = data.format(userID = userId, Info = text.replace(\"\\n\", \"<br>\"), Times = 0, TimeStamp = time.time())\n",
    "with open(Path + path + \"/\" + str(userId) + \"-\" + str(hash(text))[:5],\"w\") as f:\n",
    "    for msg in writeMsgs.split(\"\\n\"):\n",
    "        f.write(msg)\n",
    "        f.write(\"\\n\")"
   ]
  },
  {
   "cell_type": "code",
   "execution_count": 197,
   "metadata": {
    "ExecuteTime": {
     "end_time": "2020-05-16T12:22:59.444907Z",
     "start_time": "2020-05-16T12:22:59.438345Z"
    }
   },
   "outputs": [
    {
     "name": "stdout",
     "output_type": "stream",
     "text": [
      "[Info]\n",
      "UserId = {userID}\n",
      "\n",
      "RemindInfo = {Info}\n",
      "Times = {Times}\n",
      "LastTimeRemind = {TimeStamp}\n",
      "\n",
      "[Info]\n",
      "UserId = 123\n",
      "\n",
      "RemindInfo = AAA\n",
      "Times = 0\n",
      "LastTimeRemind = 1589631779.4424477\n",
      "\n"
     ]
    },
    {
     "data": {
      "text/plain": [
       "'AAA<br>BBB'"
      ]
     },
     "execution_count": 197,
     "metadata": {},
     "output_type": "execute_result"
    }
   ],
   "source": [
    "\n",
    "\n",
    "print(data)\n",
    "\n",
    "a = data.split(\"\\n\")\n",
    "\n",
    "import time\n",
    "print(data.format(userID = userId, Info = text.replace(\"\\n\", \"<br>\"), Times = 0, TimeStamp = time.time()))\n",
    "\n",
    "\"AAA\\nBBB\".replace(\"\\n\", \"<br>\")"
   ]
  },
  {
   "cell_type": "code",
   "execution_count": 196,
   "metadata": {
    "ExecuteTime": {
     "end_time": "2020-05-16T12:08:47.828351Z",
     "start_time": "2020-05-16T12:08:47.823259Z"
    }
   },
   "outputs": [
    {
     "data": {
      "text/plain": [
       "'/home/fio/Python/E_Practice/ChatBot_practice/Ebbing/.DataForEbbing/2020/05/16/21/00'"
      ]
     },
     "execution_count": 196,
     "metadata": {},
     "output_type": "execute_result"
    }
   ],
   "source": []
  },
  {
   "cell_type": "code",
   "execution_count": 186,
   "metadata": {
    "ExecuteTime": {
     "end_time": "2020-05-16T11:58:30.535250Z",
     "start_time": "2020-05-16T11:58:30.530319Z"
    }
   },
   "outputs": [
    {
     "data": {
      "text/plain": [
       "'2020/05/16/21/00'"
      ]
     },
     "execution_count": 186,
     "metadata": {},
     "output_type": "execute_result"
    }
   ],
   "source": [
    "path"
   ]
  },
  {
   "cell_type": "code",
   "execution_count": 193,
   "metadata": {
    "ExecuteTime": {
     "end_time": "2020-05-16T12:00:04.048190Z",
     "start_time": "2020-05-16T12:00:04.041405Z"
    }
   },
   "outputs": [
    {
     "name": "stdout",
     "output_type": "stream",
     "text": [
      "AALL /home/fio/Python/E_Practice/ChatBot_practice/Ebbing/.DataForEbbing\n",
      "ALR\n",
      "/home/fio/Python/E_Practice/ChatBot_practice/Ebbing/.DataForEbbing/2020\n",
      "ALR\n",
      "/home/fio/Python/E_Practice/ChatBot_practice/Ebbing/.DataForEbbing/2020/05\n",
      "ALR\n",
      "/home/fio/Python/E_Practice/ChatBot_practice/Ebbing/.DataForEbbing/2020/05/16\n",
      "ALR\n",
      "/home/fio/Python/E_Practice/ChatBot_practice/Ebbing/.DataForEbbing/2020/05/16/21\n",
      "ALR\n",
      "/home/fio/Python/E_Practice/ChatBot_practice/Ebbing/.DataForEbbing/2020/05/16/21/00\n"
     ]
    }
   ],
   "source": []
  },
  {
   "cell_type": "code",
   "execution_count": 175,
   "metadata": {
    "ExecuteTime": {
     "end_time": "2020-05-16T11:53:20.565421Z",
     "start_time": "2020-05-16T11:53:20.560901Z"
    }
   },
   "outputs": [],
   "source": [
    "try:\n",
    "    int(\"AA\")\n",
    "except:\n",
    "    pass"
   ]
  },
  {
   "cell_type": "code",
   "execution_count": 177,
   "metadata": {
    "ExecuteTime": {
     "end_time": "2020-05-16T11:53:44.214897Z",
     "start_time": "2020-05-16T11:53:44.207093Z"
    }
   },
   "outputs": [
    {
     "ename": "AttributeError",
     "evalue": "__enter__",
     "output_type": "error",
     "traceback": [
      "\u001b[0;31m---------------------------------------------------------------------------\u001b[0m",
      "\u001b[0;31mAttributeError\u001b[0m                            Traceback (most recent call last)",
      "\u001b[0;32m<ipython-input-177-3a0d32ee867a>\u001b[0m in \u001b[0;36m<module>\u001b[0;34m\u001b[0m\n\u001b[0;32m----> 1\u001b[0;31m \u001b[0;32mwith\u001b[0m \u001b[0;32mTrue\u001b[0m \u001b[0;32mas\u001b[0m \u001b[0mt\u001b[0m\u001b[0;34m:\u001b[0m\u001b[0;34m\u001b[0m\u001b[0;34m\u001b[0m\u001b[0m\n\u001b[0m\u001b[1;32m      2\u001b[0m     \u001b[0mint\u001b[0m\u001b[0;34m(\u001b[0m\u001b[0;34m\"AA\"\u001b[0m\u001b[0;34m)\u001b[0m\u001b[0;34m\u001b[0m\u001b[0;34m\u001b[0m\u001b[0m\n",
      "\u001b[0;31mAttributeError\u001b[0m: __enter__"
     ]
    }
   ],
   "source": []
  },
  {
   "cell_type": "code",
   "execution_count": null,
   "metadata": {},
   "outputs": [],
   "source": [
    "with open()"
   ]
  },
  {
   "cell_type": "code",
   "execution_count": 56,
   "metadata": {
    "ExecuteTime": {
     "end_time": "2020-05-16T11:05:23.826914Z",
     "start_time": "2020-05-16T11:05:23.816853Z"
    }
   },
   "outputs": [
    {
     "data": {
      "text/plain": [
       "'Do something\\nat 5/20 19.30'"
      ]
     },
     "execution_count": 56,
     "metadata": {},
     "output_type": "execute_result"
    }
   ],
   "source": [
    "out[0]"
   ]
  },
  {
   "cell_type": "code",
   "execution_count": 57,
   "metadata": {
    "ExecuteTime": {
     "end_time": "2020-05-16T11:05:36.743485Z",
     "start_time": "2020-05-16T11:05:36.738781Z"
    }
   },
   "outputs": [],
   "source": [
    "data = out[0]"
   ]
  },
  {
   "cell_type": "code",
   "execution_count": 66,
   "metadata": {
    "ExecuteTime": {
     "end_time": "2020-05-16T11:06:54.786093Z",
     "start_time": "2020-05-16T11:06:54.778940Z"
    }
   },
   "outputs": [],
   "source": [
    "timeinfo = data.split(\"\\n\")[-1]"
   ]
  },
  {
   "cell_type": "code",
   "execution_count": 67,
   "metadata": {
    "ExecuteTime": {
     "end_time": "2020-05-16T11:06:57.657396Z",
     "start_time": "2020-05-16T11:06:57.650561Z"
    }
   },
   "outputs": [],
   "source": [
    "try:\n",
    "    timeinfo = timeinfo[timeinfo.find(\"at \")+3:]\n",
    "        def include(string, contents):\n",
    "        out = False\n",
    "        for content in contents:\n",
    "            out = out and content in string\n",
    "        return out\n",
    "    \n",
    "    if include(timeinfo, [\" \",\"/\",\"年\",\"月\",\"日\"]:\n",
    "        dateinfo, timeinfo = timeinfo.split(\" \")\n",
    "    else:\n",
    "        dateinfo = None\n",
    "        timeinfo = timeinfo\n",
    "               \n",
    "except:\n",
    "    print(\"Noting!\")"
   ]
  },
  {
   "cell_type": "code",
   "execution_count": 80,
   "metadata": {
    "ExecuteTime": {
     "end_time": "2020-05-16T11:11:06.826185Z",
     "start_time": "2020-05-16T11:11:06.820988Z"
    }
   },
   "outputs": [],
   "source": [
    "class RemindData:\n",
    "    "
   ]
  },
  {
   "cell_type": "code",
   "execution_count": 68,
   "metadata": {
    "ExecuteTime": {
     "end_time": "2020-05-16T11:06:57.985557Z",
     "start_time": "2020-05-16T11:06:57.976007Z"
    }
   },
   "outputs": [
    {
     "data": {
      "text/plain": [
       "'5/20 19.30'"
      ]
     },
     "execution_count": 68,
     "metadata": {},
     "output_type": "execute_result"
    }
   ],
   "source": [
    "timeinfo"
   ]
  },
  {
   "cell_type": "code",
   "execution_count": 74,
   "metadata": {
    "ExecuteTime": {
     "end_time": "2020-05-16T11:08:26.217635Z",
     "start_time": "2020-05-16T11:08:26.212297Z"
    }
   },
   "outputs": [],
   "source": [
    "hour = timeinfo.replace(\".\", \":\").split(\":\")[0]\n",
    "minute = timeinfo.replace(\".\", \":\").split(\":\")[1]"
   ]
  },
  {
   "cell_type": "code",
   "execution_count": 70,
   "metadata": {
    "ExecuteTime": {
     "end_time": "2020-05-16T11:07:23.712451Z",
     "start_time": "2020-05-16T11:07:23.707406Z"
    }
   },
   "outputs": [],
   "source": [
    "\n",
    "if \"/\" in timeinfo or \" \" in timeinfo:\n",
    "    dateinfo, timeinfo = timeinfo.split(\" \")\n",
    "else:\n",
    "    dateinfo = None\n",
    "    timeinfo = timeinfo"
   ]
  },
  {
   "cell_type": "code",
   "execution_count": 76,
   "metadata": {
    "ExecuteTime": {
     "end_time": "2020-05-16T11:08:36.123434Z",
     "start_time": "2020-05-16T11:08:36.113467Z"
    }
   },
   "outputs": [
    {
     "data": {
      "text/plain": [
       "'5/20'"
      ]
     },
     "execution_count": 76,
     "metadata": {},
     "output_type": "execute_result"
    }
   ],
   "source": [
    "dateinfo"
   ]
  },
  {
   "cell_type": "code",
   "execution_count": 35,
   "metadata": {
    "ExecuteTime": {
     "end_time": "2020-05-16T11:02:57.269879Z",
     "start_time": "2020-05-16T11:02:57.264265Z"
    }
   },
   "outputs": [
    {
     "data": {
      "text/plain": [
       "14"
      ]
     },
     "execution_count": 35,
     "metadata": {},
     "output_type": "execute_result"
    }
   ],
   "source": [
    "times.find(\"at\")"
   ]
  },
  {
   "cell_type": "code",
   "execution_count": 18,
   "metadata": {
    "ExecuteTime": {
     "end_time": "2020-05-16T10:22:56.780925Z",
     "start_time": "2020-05-16T10:22:56.298911Z"
    }
   },
   "outputs": [],
   "source": [
    "readFiles(\"AA\")"
   ]
  },
  {
   "cell_type": "code",
   "execution_count": null,
   "metadata": {},
   "outputs": [],
   "source": []
  }
 ],
 "metadata": {
  "hide_input": false,
  "kernelspec": {
   "display_name": "chatbot",
   "language": "python",
   "name": "chatbot"
  },
  "varInspector": {
   "cols": {
    "lenName": 16,
    "lenType": 16,
    "lenVar": 40
   },
   "kernels_config": {
    "python": {
     "delete_cmd_postfix": "",
     "delete_cmd_prefix": "del ",
     "library": "var_list.py",
     "varRefreshCmd": "print(var_dic_list())"
    },
    "r": {
     "delete_cmd_postfix": ") ",
     "delete_cmd_prefix": "rm(",
     "library": "var_list.r",
     "varRefreshCmd": "cat(var_dic_list()) "
    }
   },
   "position": {
    "height": "252px",
    "left": "735px",
    "right": "20px",
    "top": "53px",
    "width": "535px"
   },
   "types_to_exclude": [
    "module",
    "function",
    "builtin_function_or_method",
    "instance",
    "_Feature"
   ],
   "window_display": false
  }
 },
 "nbformat": 4,
 "nbformat_minor": 2
}

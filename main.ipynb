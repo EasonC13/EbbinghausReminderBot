{
 "cells": [
  {
   "cell_type": "code",
   "execution_count": 12,
   "metadata": {
    "ExecuteTime": {
     "end_time": "2020-05-16T10:22:06.638780Z",
     "start_time": "2020-05-16T10:22:06.632662Z"
    }
   },
   "outputs": [],
   "source": [
    "import pandas as pd\n",
    "import numpy as np\n",
    "import datetime\n",
    "import time\n",
    "import configparser\n",
    "import logging\n",
    "from os import listdir\n",
    "from os.path import isfile, join\n",
    "\n",
    "from flask import Flask, request\n",
    "import telegram\n",
    "from telegram import ReplyKeyboardMarkup, InlineKeyboardMarkup, InlineKeyboardButton\n",
    "from telegram.ext import Dispatcher, CommandHandler, MessageHandler, Filters, CallbackQueryHandler\n",
    "import requests\n",
    "from datetime import datetime\n",
    "pd.options.mode.chained_assignment = None  # default='warn'\n",
    "ISOTIMEFORMAT = '%Y%m%d_%H%M%S'\n",
    "\n",
    "path = os.path.abspath('.')\n",
    "\n",
    "bot = telegram.Bot(token=\"1024294829:AAGz8t8VWA3YPT2EyK5SLd6fdgQ8Q1mxm8k\")"
   ]
  },
  {
   "cell_type": "code",
   "execution_count": 56,
   "metadata": {
    "ExecuteTime": {
     "end_time": "2020-05-16T09:53:30.337615Z",
     "start_time": "2020-05-16T09:53:30.333237Z"
    }
   },
   "outputs": [
    {
     "data": {
      "text/plain": [
       "<function datetime.fromtimestamp>"
      ]
     },
     "execution_count": 56,
     "metadata": {},
     "output_type": "execute_result"
    }
   ],
   "source": [
    "d2 = datetime.datetime.now()\n",
    "d = datetime.datetime.now()\n",
    "\n",
    "datetime.datetime.fromtimestamp()"
   ]
  },
  {
   "cell_type": "code",
   "execution_count": 65,
   "metadata": {
    "ExecuteTime": {
     "end_time": "2020-05-16T09:54:51.401091Z",
     "start_time": "2020-05-16T09:54:51.396015Z"
    }
   },
   "outputs": [
    {
     "name": "stdout",
     "output_type": "stream",
     "text": [
      "1589622891.3989322\n"
     ]
    }
   ],
   "source": [
    "a = time.time()\n",
    "print(a)"
   ]
  },
  {
   "cell_type": "code",
   "execution_count": 72,
   "metadata": {
    "ExecuteTime": {
     "end_time": "2020-05-16T09:59:59.030623Z",
     "start_time": "2020-05-16T09:59:59.024829Z"
    }
   },
   "outputs": [
    {
     "data": {
      "text/plain": [
       "'2020/05/16/17/55'"
      ]
     },
     "execution_count": 72,
     "metadata": {},
     "output_type": "execute_result"
    }
   ],
   "source": []
  },
  {
   "cell_type": "code",
   "execution_count": 26,
   "metadata": {
    "ExecuteTime": {
     "end_time": "2020-05-16T09:47:17.135662Z",
     "start_time": "2020-05-16T09:47:17.130850Z"
    }
   },
   "outputs": [],
   "source": [
    "def getTimeNow():\n",
    "    return datetime.datetime.now()"
   ]
  },
  {
   "cell_type": "code",
   "execution_count": 17,
   "metadata": {
    "ExecuteTime": {
     "end_time": "2020-05-16T09:45:51.963972Z",
     "start_time": "2020-05-16T09:45:51.958501Z"
    }
   },
   "outputs": [
    {
     "name": "stdout",
     "output_type": "stream",
     "text": [
      "Welcome back.\n"
     ]
    }
   ],
   "source": [
    "if not os.path.isdir(path + '/' +\".DataForEbbing\"):\n",
    "    os.mkdir(path + '/' +\".DataForEbbing\")\n",
    "    print(\"Hello! Run first time.\")\n",
    "else:\n",
    "    print(\"Welcome back.\")\n",
    "path = path + '/' +\".DataForEbbing/\""
   ]
  },
  {
   "cell_type": "code",
   "execution_count": 9,
   "metadata": {
    "ExecuteTime": {
     "end_time": "2020-05-16T10:19:26.432626Z",
     "start_time": "2020-05-16T10:19:26.427655Z"
    }
   },
   "outputs": [],
   "source": [
    "import telegram\n",
    "bot = telegram.Bot(token=\"1024294829:AAGz8t8VWA3YPT2EyK5SLd6fdgQ8Q1mxm8k\")"
   ]
  },
  {
   "cell_type": "code",
   "execution_count": 10,
   "metadata": {
    "ExecuteTime": {
     "end_time": "2020-05-16T10:19:35.937947Z",
     "start_time": "2020-05-16T10:19:35.932124Z"
    }
   },
   "outputs": [],
   "source": [
    "def make_init_quiz_interface(front_data=\"\"):\n",
    "    option_context = [\"核准\", \"否決\", \"查看學生的資料\"]\n",
    "    return InlineKeyboardMarkup(\n",
    "        [\n",
    "            [\n",
    "                InlineKeyboardButton(\n",
    "                option_context[i - 1],\n",
    "                url= \"https://tsraise.com\" if option_context[i - 1] == \"查看學生的資料\" else None,\n",
    "                callback_data='/quizdata,' + front_data + (',' if front_data!=\"\" else '') + str(i)),\n",
    "            ] for i in range(3)\n",
    "        ],\n",
    "        \n",
    "    )"
   ]
  },
  {
   "cell_type": "code",
   "execution_count": 11,
   "metadata": {
    "ExecuteTime": {
     "end_time": "2020-05-16T10:19:37.301633Z",
     "start_time": "2020-05-16T10:19:36.677780Z"
    }
   },
   "outputs": [
    {
     "data": {
      "text/plain": [
       "<telegram.message.Message at 0x7ffb82c47c90>"
      ]
     },
     "execution_count": 11,
     "metadata": {},
     "output_type": "execute_result"
    }
   ],
   "source": [
    "bot.send_message(chat_id = 555773901, text = \"AAA\", reply_markup = make_init_quiz_interface())"
   ]
  },
  {
   "cell_type": "code",
   "execution_count": null,
   "metadata": {},
   "outputs": [],
   "source": []
  },
  {
   "cell_type": "code",
   "execution_count": null,
   "metadata": {},
   "outputs": [],
   "source": []
  },
  {
   "cell_type": "code",
   "execution_count": null,
   "metadata": {},
   "outputs": [],
   "source": []
  },
  {
   "cell_type": "code",
   "execution_count": 17,
   "metadata": {
    "ExecuteTime": {
     "end_time": "2020-05-16T10:22:55.758075Z",
     "start_time": "2020-05-16T10:22:55.750729Z"
    }
   },
   "outputs": [],
   "source": [
    "#Start worker for checking regular.\n",
    "\n",
    "import configparser\n",
    "\n",
    "import telegram\n",
    "bot = telegram.Bot(token=\"1024294829:AAGz8t8VWA3YPT2EyK5SLd6fdgQ8Q1mxm8k\")\n",
    "\n",
    "def checkingEveryMin(Path):\n",
    "    \n",
    "    Time = time.time()\n",
    "    while(True):\n",
    "        if datetime.datetime.fromtimestamp(Time) < datetime.datetime.now():\n",
    "            time.sleep(1)\n",
    "            continue\n",
    "        \n",
    "        Time+=60\n",
    "        \n",
    "        time = datetime.datetime.fromtimestamp(Time)\n",
    "        pathNow = Path + time.strftime(\"%Y/%m/%d/%H/%M\")\n",
    "        \n",
    "        if os.path.isdir(pathNow) == False:\n",
    "            continue\n",
    "            print(\"No file\")\n",
    "        \n",
    "        files = [f for f in os.listdir(pathNow) if os.path.isfile(os.path.join(pathNow, f))]\n",
    "        \n",
    "        for file in files:\n",
    "            processFiles(pathNow + \"/\" + file, Path)\n",
    "            pass\n",
    "            #readFiles\n",
    "\n",
    "def processFiles(filePath, Path):\n",
    "    config = configparser.RawConfigParser()\n",
    "    config.read(pathNow + \"/\" + file)\n",
    "    \n",
    "    global bot\n",
    "    \n",
    "    bot.send_message(chat_id = config[\"Info\"][\"UserId\"], text = config[\"Info\"][\"RemindInfo\"], reply_markup = make_init_quiz_interface())\n",
    "    \n",
    "    #set remind again for later on.\n",
    "    \n",
    "    \n",
    "    "
   ]
  },
  {
   "cell_type": "code",
   "execution_count": null,
   "metadata": {},
   "outputs": [],
   "source": []
  },
  {
   "cell_type": "code",
   "execution_count": null,
   "metadata": {},
   "outputs": [],
   "source": []
  },
  {
   "cell_type": "code",
   "execution_count": 21,
   "metadata": {
    "ExecuteTime": {
     "end_time": "2020-05-16T10:31:36.154179Z",
     "start_time": "2020-05-16T10:31:36.148089Z"
    }
   },
   "outputs": [],
   "source": [
    "from flask import Flask, request\n",
    "import telegram\n",
    "from telegram import ReplyKeyboardMarkup, InlineKeyboardMarkup, InlineKeyboardButton\n",
    "from telegram.ext import Dispatcher, CommandHandler, MessageHandler, Filters, CallbackQueryHandler\n",
    "import requests\n",
    "\n",
    "app = Flask(__name__)\n",
    "bot = telegram.Bot(token=\"1024294829:AAGz8t8VWA3YPT2EyK5SLd6fdgQ8Q1mxm8k\")"
   ]
  },
  {
   "cell_type": "code",
   "execution_count": null,
   "metadata": {
    "ExecuteTime": {
     "end_time": "2020-05-16T10:31:36.973705Z",
     "start_time": "2020-05-16T10:31:36.785Z"
    }
   },
   "outputs": [],
   "source": [
    "@app.route('/hook', methods=['POST'])\n",
    "def webhook_handler():\n",
    "    \"\"\"Set route /hook with POST method will trigger this method.\"\"\"\n",
    "    if request.method == \"POST\":\n",
    "        update = telegram.Update.de_json(request.get_json(force=True), bot)\n",
    "        dispatcher.process_update(update)\n",
    "    return 'ok'\n",
    "\n",
    "def start_handler(bot, update):\n",
    "    \"\"\"Send a message when the command /start is issued.\"\"\"\n",
    "    already_in_use = False\n",
    "    if already_in_use:\n",
    "        update.message.reply_text(hello_message)\n",
    "    else:\n",
    "        user_setup(update)\n",
    "\n",
    "def help_handler(bot, update):\n",
    "    \"\"\"Send a message when the command /help is issued.\"\"\"\n",
    "    #update.message.reply_text(welcome_message, reply_markup=KeyBoards.default)\n",
    "    update.message.reply_text(help_message, reply_markup = ReplyKeyboardMarkup([[\"...好喔\"]]) )"
   ]
  },
  {
   "cell_type": "code",
   "execution_count": null,
   "metadata": {},
   "outputs": [],
   "source": [
    "dispatcher = Dispatcher(bot, None)\n",
    "dispatcher.add_handler(MessageHandler(Filters.text, reply_handler))\n",
    "dispatcher.add_handler(CommandHandler('start', start_handler))\n",
    "dispatcher.add_handler(CommandHandler('help', help_handler))\n"
   ]
  },
  {
   "cell_type": "code",
   "execution_count": null,
   "metadata": {},
   "outputs": [],
   "source": []
  },
  {
   "cell_type": "code",
   "execution_count": null,
   "metadata": {},
   "outputs": [],
   "source": []
  },
  {
   "cell_type": "code",
   "execution_count": null,
   "metadata": {},
   "outputs": [],
   "source": []
  },
  {
   "cell_type": "code",
   "execution_count": null,
   "metadata": {},
   "outputs": [],
   "source": []
  },
  {
   "cell_type": "code",
   "execution_count": 18,
   "metadata": {
    "ExecuteTime": {
     "end_time": "2020-05-16T10:22:56.780925Z",
     "start_time": "2020-05-16T10:22:56.298911Z"
    }
   },
   "outputs": [],
   "source": [
    "readFiles(\"AA\")"
   ]
  },
  {
   "cell_type": "code",
   "execution_count": null,
   "metadata": {},
   "outputs": [],
   "source": []
  }
 ],
 "metadata": {
  "hide_input": false,
  "kernelspec": {
   "display_name": "chatbot",
   "language": "python",
   "name": "chatbot"
  },
  "language_info": {
   "codemirror_mode": {
    "name": "ipython",
    "version": 3
   },
   "file_extension": ".py",
   "mimetype": "text/x-python",
   "name": "python",
   "nbconvert_exporter": "python",
   "pygments_lexer": "ipython3",
   "version": "3.7.6"
  },
  "varInspector": {
   "cols": {
    "lenName": 16,
    "lenType": 16,
    "lenVar": 40
   },
   "kernels_config": {
    "python": {
     "delete_cmd_postfix": "",
     "delete_cmd_prefix": "del ",
     "library": "var_list.py",
     "varRefreshCmd": "print(var_dic_list())"
    },
    "r": {
     "delete_cmd_postfix": ") ",
     "delete_cmd_prefix": "rm(",
     "library": "var_list.r",
     "varRefreshCmd": "cat(var_dic_list()) "
    }
   },
   "position": {
    "height": "252px",
    "left": "735px",
    "right": "20px",
    "top": "53px",
    "width": "535px"
   },
   "types_to_exclude": [
    "module",
    "function",
    "builtin_function_or_method",
    "instance",
    "_Feature"
   ],
   "window_display": false
  }
 },
 "nbformat": 4,
 "nbformat_minor": 2
}
